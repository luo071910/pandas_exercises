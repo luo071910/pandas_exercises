{
  "nbformat": 4,
  "nbformat_minor": 0,
  "metadata": {
    "anaconda-cloud": {},
    "kernelspec": {
      "display_name": "Python [default]",
      "language": "python",
      "name": "python2"
    },
    "language_info": {
      "codemirror_mode": {
        "name": "ipython",
        "version": 2
      },
      "file_extension": ".py",
      "mimetype": "text/x-python",
      "name": "python",
      "nbconvert_exporter": "python",
      "pygments_lexer": "ipython2",
      "version": "2.7.12"
    },
    "colab": {
      "name": "Exercises.ipynb",
      "provenance": []
    }
  },
  "cells": [
    {
      "cell_type": "markdown",
      "metadata": {
        "id": "pMkdGjMKyr41"
      },
      "source": [
        "# Ex2 - Getting and Knowing your Data"
      ]
    },
    {
      "cell_type": "markdown",
      "metadata": {
        "id": "_s2RVk5xyr41"
      },
      "source": [
        "This time we are going to pull data directly from the internet.\n",
        "Special thanks to: https://github.com/justmarkham for sharing the dataset and materials.\n",
        "\n",
        "### Step 1. Import the necessary libraries"
      ]
    },
    {
      "cell_type": "code",
      "metadata": {
        "id": "Gc26PRkcyr41"
      },
      "source": [
        "import pandas as pd"
      ],
      "execution_count": 1,
      "outputs": []
    },
    {
      "cell_type": "markdown",
      "metadata": {
        "id": "k5EIdePzyr42"
      },
      "source": [
        "### Step 2. Import the dataset from this [address](https://raw.githubusercontent.com/justmarkham/DAT8/master/data/chipotle.tsv). "
      ]
    },
    {
      "cell_type": "markdown",
      "metadata": {
        "id": "Z0RXsIjtyr42"
      },
      "source": [
        "### Step 3. Assign it to a variable called chipo."
      ]
    },
    {
      "cell_type": "code",
      "metadata": {
        "colab": {
          "base_uri": "https://localhost:8080/"
        },
        "id": "DxJBzBZXyr42",
        "outputId": "9d90e419-eff1-4c71-aba2-119619ce8bd0"
      },
      "source": [
        "chipo = pd.read_table(\"chipotle.tsv\")"
      ],
      "execution_count": 4,
      "outputs": [
        {
          "output_type": "stream",
          "text": [
            "/usr/local/lib/python2.7/dist-packages/ipykernel_launcher.py:1: FutureWarning: read_table is deprecated, use read_csv instead, passing sep='\\t'.\n",
            "  \"\"\"Entry point for launching an IPython kernel.\n"
          ],
          "name": "stderr"
        }
      ]
    },
    {
      "cell_type": "markdown",
      "metadata": {
        "id": "9GqKaNB9yr42"
      },
      "source": [
        "### Step 4. See the first 10 entries"
      ]
    },
    {
      "cell_type": "code",
      "metadata": {
        "scrolled": false,
        "colab": {
          "base_uri": "https://localhost:8080/",
          "height": 359
        },
        "id": "oOKeue-iyr42",
        "outputId": "b6f2337c-3162-4e29-f1f2-af577aa54e25"
      },
      "source": [
        "chipo.head(10)"
      ],
      "execution_count": 5,
      "outputs": [
        {
          "output_type": "execute_result",
          "data": {
            "text/plain": [
              "   order_id  quantity                              item_name  \\\n",
              "0         1         1           Chips and Fresh Tomato Salsa   \n",
              "1         1         1                                   Izze   \n",
              "2         1         1                       Nantucket Nectar   \n",
              "3         1         1  Chips and Tomatillo-Green Chili Salsa   \n",
              "4         2         2                           Chicken Bowl   \n",
              "5         3         1                           Chicken Bowl   \n",
              "6         3         1                          Side of Chips   \n",
              "7         4         1                          Steak Burrito   \n",
              "8         4         1                       Steak Soft Tacos   \n",
              "9         5         1                          Steak Burrito   \n",
              "\n",
              "                                  choice_description item_price  \n",
              "0                                                NaN     $2.39   \n",
              "1                                       [Clementine]     $3.39   \n",
              "2                                            [Apple]     $3.39   \n",
              "3                                                NaN     $2.39   \n",
              "4  [Tomatillo-Red Chili Salsa (Hot), [Black Beans...    $16.98   \n",
              "5  [Fresh Tomato Salsa (Mild), [Rice, Cheese, Sou...    $10.98   \n",
              "6                                                NaN     $1.69   \n",
              "7  [Tomatillo Red Chili Salsa, [Fajita Vegetables...    $11.75   \n",
              "8  [Tomatillo Green Chili Salsa, [Pinto Beans, Ch...     $9.25   \n",
              "9  [Fresh Tomato Salsa, [Rice, Black Beans, Pinto...     $9.25   "
            ],
            "text/html": [
              "<div>\n",
              "<style scoped>\n",
              "    .dataframe tbody tr th:only-of-type {\n",
              "        vertical-align: middle;\n",
              "    }\n",
              "\n",
              "    .dataframe tbody tr th {\n",
              "        vertical-align: top;\n",
              "    }\n",
              "\n",
              "    .dataframe thead th {\n",
              "        text-align: right;\n",
              "    }\n",
              "</style>\n",
              "<table border=\"1\" class=\"dataframe\">\n",
              "  <thead>\n",
              "    <tr style=\"text-align: right;\">\n",
              "      <th></th>\n",
              "      <th>order_id</th>\n",
              "      <th>quantity</th>\n",
              "      <th>item_name</th>\n",
              "      <th>choice_description</th>\n",
              "      <th>item_price</th>\n",
              "    </tr>\n",
              "  </thead>\n",
              "  <tbody>\n",
              "    <tr>\n",
              "      <th>0</th>\n",
              "      <td>1</td>\n",
              "      <td>1</td>\n",
              "      <td>Chips and Fresh Tomato Salsa</td>\n",
              "      <td>NaN</td>\n",
              "      <td>$2.39</td>\n",
              "    </tr>\n",
              "    <tr>\n",
              "      <th>1</th>\n",
              "      <td>1</td>\n",
              "      <td>1</td>\n",
              "      <td>Izze</td>\n",
              "      <td>[Clementine]</td>\n",
              "      <td>$3.39</td>\n",
              "    </tr>\n",
              "    <tr>\n",
              "      <th>2</th>\n",
              "      <td>1</td>\n",
              "      <td>1</td>\n",
              "      <td>Nantucket Nectar</td>\n",
              "      <td>[Apple]</td>\n",
              "      <td>$3.39</td>\n",
              "    </tr>\n",
              "    <tr>\n",
              "      <th>3</th>\n",
              "      <td>1</td>\n",
              "      <td>1</td>\n",
              "      <td>Chips and Tomatillo-Green Chili Salsa</td>\n",
              "      <td>NaN</td>\n",
              "      <td>$2.39</td>\n",
              "    </tr>\n",
              "    <tr>\n",
              "      <th>4</th>\n",
              "      <td>2</td>\n",
              "      <td>2</td>\n",
              "      <td>Chicken Bowl</td>\n",
              "      <td>[Tomatillo-Red Chili Salsa (Hot), [Black Beans...</td>\n",
              "      <td>$16.98</td>\n",
              "    </tr>\n",
              "    <tr>\n",
              "      <th>5</th>\n",
              "      <td>3</td>\n",
              "      <td>1</td>\n",
              "      <td>Chicken Bowl</td>\n",
              "      <td>[Fresh Tomato Salsa (Mild), [Rice, Cheese, Sou...</td>\n",
              "      <td>$10.98</td>\n",
              "    </tr>\n",
              "    <tr>\n",
              "      <th>6</th>\n",
              "      <td>3</td>\n",
              "      <td>1</td>\n",
              "      <td>Side of Chips</td>\n",
              "      <td>NaN</td>\n",
              "      <td>$1.69</td>\n",
              "    </tr>\n",
              "    <tr>\n",
              "      <th>7</th>\n",
              "      <td>4</td>\n",
              "      <td>1</td>\n",
              "      <td>Steak Burrito</td>\n",
              "      <td>[Tomatillo Red Chili Salsa, [Fajita Vegetables...</td>\n",
              "      <td>$11.75</td>\n",
              "    </tr>\n",
              "    <tr>\n",
              "      <th>8</th>\n",
              "      <td>4</td>\n",
              "      <td>1</td>\n",
              "      <td>Steak Soft Tacos</td>\n",
              "      <td>[Tomatillo Green Chili Salsa, [Pinto Beans, Ch...</td>\n",
              "      <td>$9.25</td>\n",
              "    </tr>\n",
              "    <tr>\n",
              "      <th>9</th>\n",
              "      <td>5</td>\n",
              "      <td>1</td>\n",
              "      <td>Steak Burrito</td>\n",
              "      <td>[Fresh Tomato Salsa, [Rice, Black Beans, Pinto...</td>\n",
              "      <td>$9.25</td>\n",
              "    </tr>\n",
              "  </tbody>\n",
              "</table>\n",
              "</div>"
            ]
          },
          "metadata": {
            "tags": []
          },
          "execution_count": 5
        }
      ]
    },
    {
      "cell_type": "markdown",
      "metadata": {
        "id": "lBMDBPPyyr42"
      },
      "source": [
        "### Step 5. What is the number of observations in the dataset?"
      ]
    },
    {
      "cell_type": "code",
      "metadata": {
        "colab": {
          "base_uri": "https://localhost:8080/"
        },
        "id": "urlQdp7Eyr42",
        "outputId": "86994f6d-058f-431a-b9c3-56a975b2a134"
      },
      "source": [
        "# Solution 1\n",
        "chipo.describe\n"
      ],
      "execution_count": 6,
      "outputs": [
        {
          "output_type": "execute_result",
          "data": {
            "text/plain": [
              "<bound method DataFrame.describe of       order_id  quantity                              item_name  \\\n",
              "0            1         1           Chips and Fresh Tomato Salsa   \n",
              "1            1         1                                   Izze   \n",
              "2            1         1                       Nantucket Nectar   \n",
              "3            1         1  Chips and Tomatillo-Green Chili Salsa   \n",
              "4            2         2                           Chicken Bowl   \n",
              "5            3         1                           Chicken Bowl   \n",
              "6            3         1                          Side of Chips   \n",
              "7            4         1                          Steak Burrito   \n",
              "8            4         1                       Steak Soft Tacos   \n",
              "9            5         1                          Steak Burrito   \n",
              "10           5         1                    Chips and Guacamole   \n",
              "11           6         1                   Chicken Crispy Tacos   \n",
              "12           6         1                     Chicken Soft Tacos   \n",
              "13           7         1                           Chicken Bowl   \n",
              "14           7         1                    Chips and Guacamole   \n",
              "15           8         1  Chips and Tomatillo-Green Chili Salsa   \n",
              "16           8         1                        Chicken Burrito   \n",
              "17           9         1                        Chicken Burrito   \n",
              "18           9         2                            Canned Soda   \n",
              "19          10         1                           Chicken Bowl   \n",
              "20          10         1                    Chips and Guacamole   \n",
              "21          11         1                       Barbacoa Burrito   \n",
              "22          11         1                       Nantucket Nectar   \n",
              "23          12         1                        Chicken Burrito   \n",
              "24          12         1                                   Izze   \n",
              "25          13         1           Chips and Fresh Tomato Salsa   \n",
              "26          13         1                           Chicken Bowl   \n",
              "27          14         1                       Carnitas Burrito   \n",
              "28          14         1                            Canned Soda   \n",
              "29          15         1                        Chicken Burrito   \n",
              "...        ...       ...                                    ...   \n",
              "4592      1825         1                       Barbacoa Burrito   \n",
              "4593      1825         1                          Carnitas Bowl   \n",
              "4594      1825         1                          Barbacoa Bowl   \n",
              "4595      1826         1                           Chicken Bowl   \n",
              "4596      1826         1                    Chips and Guacamole   \n",
              "4597      1826         1                      Canned Soft Drink   \n",
              "4598      1826         1                          Bottled Water   \n",
              "4599      1827         1                           Chicken Bowl   \n",
              "4600      1827         1                    Chips and Guacamole   \n",
              "4601      1827         1                      Canned Soft Drink   \n",
              "4602      1827         1                       Barbacoa Burrito   \n",
              "4603      1827         1                       Barbacoa Burrito   \n",
              "4604      1828         1                           Chicken Bowl   \n",
              "4605      1828         1                    Chips and Guacamole   \n",
              "4606      1828         1                      Canned Soft Drink   \n",
              "4607      1829         1                          Steak Burrito   \n",
              "4608      1829         1                         Veggie Burrito   \n",
              "4609      1829         1                      Canned Soft Drink   \n",
              "4610      1830         1                          Steak Burrito   \n",
              "4611      1830         1                         Veggie Burrito   \n",
              "4612      1831         1                          Carnitas Bowl   \n",
              "4613      1831         1                                  Chips   \n",
              "4614      1831         1                          Bottled Water   \n",
              "4615      1832         1                     Chicken Soft Tacos   \n",
              "4616      1832         1                    Chips and Guacamole   \n",
              "4617      1833         1                          Steak Burrito   \n",
              "4618      1833         1                          Steak Burrito   \n",
              "4619      1834         1                     Chicken Salad Bowl   \n",
              "4620      1834         1                     Chicken Salad Bowl   \n",
              "4621      1834         1                     Chicken Salad Bowl   \n",
              "\n",
              "                                     choice_description item_price  \n",
              "0                                                   NaN     $2.39   \n",
              "1                                          [Clementine]     $3.39   \n",
              "2                                               [Apple]     $3.39   \n",
              "3                                                   NaN     $2.39   \n",
              "4     [Tomatillo-Red Chili Salsa (Hot), [Black Beans...    $16.98   \n",
              "5     [Fresh Tomato Salsa (Mild), [Rice, Cheese, Sou...    $10.98   \n",
              "6                                                   NaN     $1.69   \n",
              "7     [Tomatillo Red Chili Salsa, [Fajita Vegetables...    $11.75   \n",
              "8     [Tomatillo Green Chili Salsa, [Pinto Beans, Ch...     $9.25   \n",
              "9     [Fresh Tomato Salsa, [Rice, Black Beans, Pinto...     $9.25   \n",
              "10                                                  NaN     $4.45   \n",
              "11    [Roasted Chili Corn Salsa, [Fajita Vegetables,...     $8.75   \n",
              "12    [Roasted Chili Corn Salsa, [Rice, Black Beans,...     $8.75   \n",
              "13    [Fresh Tomato Salsa, [Fajita Vegetables, Rice,...    $11.25   \n",
              "14                                                  NaN     $4.45   \n",
              "15                                                  NaN     $2.39   \n",
              "16    [Tomatillo-Green Chili Salsa (Medium), [Pinto ...     $8.49   \n",
              "17    [Fresh Tomato Salsa (Mild), [Black Beans, Rice...     $8.49   \n",
              "18                                             [Sprite]     $2.18   \n",
              "19    [Tomatillo Red Chili Salsa, [Fajita Vegetables...     $8.75   \n",
              "20                                                  NaN     $4.45   \n",
              "21    [[Fresh Tomato Salsa (Mild), Tomatillo-Green C...     $8.99   \n",
              "22                                 [Pomegranate Cherry]     $3.39   \n",
              "23    [[Tomatillo-Green Chili Salsa (Medium), Tomati...    $10.98   \n",
              "24                                         [Grapefruit]     $3.39   \n",
              "25                                                  NaN     $2.39   \n",
              "26    [Roasted Chili Corn Salsa (Medium), [Pinto Bea...     $8.49   \n",
              "27    [[Tomatillo-Green Chili Salsa (Medium), Roaste...     $8.99   \n",
              "28                                         [Dr. Pepper]     $1.09   \n",
              "29    [Tomatillo-Green Chili Salsa (Medium), [Pinto ...     $8.49   \n",
              "...                                                 ...        ...  \n",
              "4592  [Tomatillo Red Chili Salsa, [Rice, Fajita Vege...    $11.75   \n",
              "4593  [Roasted Chili Corn Salsa, [Rice, Sour Cream, ...    $11.75   \n",
              "4594  [Roasted Chili Corn Salsa, [Pinto Beans, Sour ...    $11.75   \n",
              "4595  [Tomatillo Green Chili Salsa, [Rice, Black Bea...     $8.75   \n",
              "4596                                                NaN     $4.45   \n",
              "4597                                           [Nestea]     $1.25   \n",
              "4598                                                NaN     $1.50   \n",
              "4599      [Roasted Chili Corn Salsa, [Cheese, Lettuce]]     $8.75   \n",
              "4600                                                NaN     $4.45   \n",
              "4601                                        [Diet Coke]     $1.25   \n",
              "4602                      [Tomatillo Green Chili Salsa]     $9.25   \n",
              "4603                      [Tomatillo Green Chili Salsa]     $9.25   \n",
              "4604  [Fresh Tomato Salsa, [Rice, Black Beans, Chees...     $8.75   \n",
              "4605                                                NaN     $4.45   \n",
              "4606                                             [Coke]     $1.25   \n",
              "4607  [Tomatillo Green Chili Salsa, [Rice, Cheese, S...    $11.75   \n",
              "4608  [Tomatillo Red Chili Salsa, [Fajita Vegetables...    $11.25   \n",
              "4609                                           [Sprite]     $1.25   \n",
              "4610  [Fresh Tomato Salsa, [Rice, Sour Cream, Cheese...    $11.75   \n",
              "4611  [Tomatillo Green Chili Salsa, [Rice, Fajita Ve...    $11.25   \n",
              "4612  [Fresh Tomato Salsa, [Fajita Vegetables, Rice,...     $9.25   \n",
              "4613                                                NaN     $2.15   \n",
              "4614                                                NaN     $1.50   \n",
              "4615   [Fresh Tomato Salsa, [Rice, Cheese, Sour Cream]]     $8.75   \n",
              "4616                                                NaN     $4.45   \n",
              "4617  [Fresh Tomato Salsa, [Rice, Black Beans, Sour ...    $11.75   \n",
              "4618  [Fresh Tomato Salsa, [Rice, Sour Cream, Cheese...    $11.75   \n",
              "4619  [Fresh Tomato Salsa, [Fajita Vegetables, Pinto...    $11.25   \n",
              "4620  [Fresh Tomato Salsa, [Fajita Vegetables, Lettu...     $8.75   \n",
              "4621  [Fresh Tomato Salsa, [Fajita Vegetables, Pinto...     $8.75   \n",
              "\n",
              "[4622 rows x 5 columns]>"
            ]
          },
          "metadata": {
            "tags": []
          },
          "execution_count": 6
        }
      ]
    },
    {
      "cell_type": "code",
      "metadata": {
        "colab": {
          "base_uri": "https://localhost:8080/"
        },
        "id": "h8DGB4ecyr42",
        "outputId": "a1619fbd-1304-4a88-c5fb-2189102b2340"
      },
      "source": [
        "# Solution 2\n",
        "\n",
        "chipo.count"
      ],
      "execution_count": 9,
      "outputs": [
        {
          "output_type": "execute_result",
          "data": {
            "text/plain": [
              "<bound method DataFrame.count of       order_id  quantity                              item_name  \\\n",
              "0            1         1           Chips and Fresh Tomato Salsa   \n",
              "1            1         1                                   Izze   \n",
              "2            1         1                       Nantucket Nectar   \n",
              "3            1         1  Chips and Tomatillo-Green Chili Salsa   \n",
              "4            2         2                           Chicken Bowl   \n",
              "5            3         1                           Chicken Bowl   \n",
              "6            3         1                          Side of Chips   \n",
              "7            4         1                          Steak Burrito   \n",
              "8            4         1                       Steak Soft Tacos   \n",
              "9            5         1                          Steak Burrito   \n",
              "10           5         1                    Chips and Guacamole   \n",
              "11           6         1                   Chicken Crispy Tacos   \n",
              "12           6         1                     Chicken Soft Tacos   \n",
              "13           7         1                           Chicken Bowl   \n",
              "14           7         1                    Chips and Guacamole   \n",
              "15           8         1  Chips and Tomatillo-Green Chili Salsa   \n",
              "16           8         1                        Chicken Burrito   \n",
              "17           9         1                        Chicken Burrito   \n",
              "18           9         2                            Canned Soda   \n",
              "19          10         1                           Chicken Bowl   \n",
              "20          10         1                    Chips and Guacamole   \n",
              "21          11         1                       Barbacoa Burrito   \n",
              "22          11         1                       Nantucket Nectar   \n",
              "23          12         1                        Chicken Burrito   \n",
              "24          12         1                                   Izze   \n",
              "25          13         1           Chips and Fresh Tomato Salsa   \n",
              "26          13         1                           Chicken Bowl   \n",
              "27          14         1                       Carnitas Burrito   \n",
              "28          14         1                            Canned Soda   \n",
              "29          15         1                        Chicken Burrito   \n",
              "...        ...       ...                                    ...   \n",
              "4592      1825         1                       Barbacoa Burrito   \n",
              "4593      1825         1                          Carnitas Bowl   \n",
              "4594      1825         1                          Barbacoa Bowl   \n",
              "4595      1826         1                           Chicken Bowl   \n",
              "4596      1826         1                    Chips and Guacamole   \n",
              "4597      1826         1                      Canned Soft Drink   \n",
              "4598      1826         1                          Bottled Water   \n",
              "4599      1827         1                           Chicken Bowl   \n",
              "4600      1827         1                    Chips and Guacamole   \n",
              "4601      1827         1                      Canned Soft Drink   \n",
              "4602      1827         1                       Barbacoa Burrito   \n",
              "4603      1827         1                       Barbacoa Burrito   \n",
              "4604      1828         1                           Chicken Bowl   \n",
              "4605      1828         1                    Chips and Guacamole   \n",
              "4606      1828         1                      Canned Soft Drink   \n",
              "4607      1829         1                          Steak Burrito   \n",
              "4608      1829         1                         Veggie Burrito   \n",
              "4609      1829         1                      Canned Soft Drink   \n",
              "4610      1830         1                          Steak Burrito   \n",
              "4611      1830         1                         Veggie Burrito   \n",
              "4612      1831         1                          Carnitas Bowl   \n",
              "4613      1831         1                                  Chips   \n",
              "4614      1831         1                          Bottled Water   \n",
              "4615      1832         1                     Chicken Soft Tacos   \n",
              "4616      1832         1                    Chips and Guacamole   \n",
              "4617      1833         1                          Steak Burrito   \n",
              "4618      1833         1                          Steak Burrito   \n",
              "4619      1834         1                     Chicken Salad Bowl   \n",
              "4620      1834         1                     Chicken Salad Bowl   \n",
              "4621      1834         1                     Chicken Salad Bowl   \n",
              "\n",
              "                                     choice_description item_price  \n",
              "0                                                   NaN     $2.39   \n",
              "1                                          [Clementine]     $3.39   \n",
              "2                                               [Apple]     $3.39   \n",
              "3                                                   NaN     $2.39   \n",
              "4     [Tomatillo-Red Chili Salsa (Hot), [Black Beans...    $16.98   \n",
              "5     [Fresh Tomato Salsa (Mild), [Rice, Cheese, Sou...    $10.98   \n",
              "6                                                   NaN     $1.69   \n",
              "7     [Tomatillo Red Chili Salsa, [Fajita Vegetables...    $11.75   \n",
              "8     [Tomatillo Green Chili Salsa, [Pinto Beans, Ch...     $9.25   \n",
              "9     [Fresh Tomato Salsa, [Rice, Black Beans, Pinto...     $9.25   \n",
              "10                                                  NaN     $4.45   \n",
              "11    [Roasted Chili Corn Salsa, [Fajita Vegetables,...     $8.75   \n",
              "12    [Roasted Chili Corn Salsa, [Rice, Black Beans,...     $8.75   \n",
              "13    [Fresh Tomato Salsa, [Fajita Vegetables, Rice,...    $11.25   \n",
              "14                                                  NaN     $4.45   \n",
              "15                                                  NaN     $2.39   \n",
              "16    [Tomatillo-Green Chili Salsa (Medium), [Pinto ...     $8.49   \n",
              "17    [Fresh Tomato Salsa (Mild), [Black Beans, Rice...     $8.49   \n",
              "18                                             [Sprite]     $2.18   \n",
              "19    [Tomatillo Red Chili Salsa, [Fajita Vegetables...     $8.75   \n",
              "20                                                  NaN     $4.45   \n",
              "21    [[Fresh Tomato Salsa (Mild), Tomatillo-Green C...     $8.99   \n",
              "22                                 [Pomegranate Cherry]     $3.39   \n",
              "23    [[Tomatillo-Green Chili Salsa (Medium), Tomati...    $10.98   \n",
              "24                                         [Grapefruit]     $3.39   \n",
              "25                                                  NaN     $2.39   \n",
              "26    [Roasted Chili Corn Salsa (Medium), [Pinto Bea...     $8.49   \n",
              "27    [[Tomatillo-Green Chili Salsa (Medium), Roaste...     $8.99   \n",
              "28                                         [Dr. Pepper]     $1.09   \n",
              "29    [Tomatillo-Green Chili Salsa (Medium), [Pinto ...     $8.49   \n",
              "...                                                 ...        ...  \n",
              "4592  [Tomatillo Red Chili Salsa, [Rice, Fajita Vege...    $11.75   \n",
              "4593  [Roasted Chili Corn Salsa, [Rice, Sour Cream, ...    $11.75   \n",
              "4594  [Roasted Chili Corn Salsa, [Pinto Beans, Sour ...    $11.75   \n",
              "4595  [Tomatillo Green Chili Salsa, [Rice, Black Bea...     $8.75   \n",
              "4596                                                NaN     $4.45   \n",
              "4597                                           [Nestea]     $1.25   \n",
              "4598                                                NaN     $1.50   \n",
              "4599      [Roasted Chili Corn Salsa, [Cheese, Lettuce]]     $8.75   \n",
              "4600                                                NaN     $4.45   \n",
              "4601                                        [Diet Coke]     $1.25   \n",
              "4602                      [Tomatillo Green Chili Salsa]     $9.25   \n",
              "4603                      [Tomatillo Green Chili Salsa]     $9.25   \n",
              "4604  [Fresh Tomato Salsa, [Rice, Black Beans, Chees...     $8.75   \n",
              "4605                                                NaN     $4.45   \n",
              "4606                                             [Coke]     $1.25   \n",
              "4607  [Tomatillo Green Chili Salsa, [Rice, Cheese, S...    $11.75   \n",
              "4608  [Tomatillo Red Chili Salsa, [Fajita Vegetables...    $11.25   \n",
              "4609                                           [Sprite]     $1.25   \n",
              "4610  [Fresh Tomato Salsa, [Rice, Sour Cream, Cheese...    $11.75   \n",
              "4611  [Tomatillo Green Chili Salsa, [Rice, Fajita Ve...    $11.25   \n",
              "4612  [Fresh Tomato Salsa, [Fajita Vegetables, Rice,...     $9.25   \n",
              "4613                                                NaN     $2.15   \n",
              "4614                                                NaN     $1.50   \n",
              "4615   [Fresh Tomato Salsa, [Rice, Cheese, Sour Cream]]     $8.75   \n",
              "4616                                                NaN     $4.45   \n",
              "4617  [Fresh Tomato Salsa, [Rice, Black Beans, Sour ...    $11.75   \n",
              "4618  [Fresh Tomato Salsa, [Rice, Sour Cream, Cheese...    $11.75   \n",
              "4619  [Fresh Tomato Salsa, [Fajita Vegetables, Pinto...    $11.25   \n",
              "4620  [Fresh Tomato Salsa, [Fajita Vegetables, Lettu...     $8.75   \n",
              "4621  [Fresh Tomato Salsa, [Fajita Vegetables, Pinto...     $8.75   \n",
              "\n",
              "[4622 rows x 5 columns]>"
            ]
          },
          "metadata": {
            "tags": []
          },
          "execution_count": 9
        }
      ]
    },
    {
      "cell_type": "markdown",
      "metadata": {
        "id": "Py9DwIpGyr42"
      },
      "source": [
        "### Step 6. What is the number of columns in the dataset?"
      ]
    },
    {
      "cell_type": "code",
      "metadata": {
        "colab": {
          "base_uri": "https://localhost:8080/"
        },
        "id": "NNlwxStNyr42",
        "outputId": "16a9c966-6786-4136-da6f-9b0b1683b433"
      },
      "source": [
        "len(chipo.columns)"
      ],
      "execution_count": 12,
      "outputs": [
        {
          "output_type": "execute_result",
          "data": {
            "text/plain": [
              "5"
            ]
          },
          "metadata": {
            "tags": []
          },
          "execution_count": 12
        }
      ]
    },
    {
      "cell_type": "markdown",
      "metadata": {
        "id": "i9YbZNUUyr42"
      },
      "source": [
        "### Step 7. Print the name of all the columns."
      ]
    },
    {
      "cell_type": "code",
      "metadata": {
        "colab": {
          "base_uri": "https://localhost:8080/"
        },
        "id": "CVPpzVoJyr42",
        "outputId": "b8768226-709b-4515-8085-3455b7e68c56"
      },
      "source": [
        "chipo.columns"
      ],
      "execution_count": 13,
      "outputs": [
        {
          "output_type": "execute_result",
          "data": {
            "text/plain": [
              "Index([u'order_id', u'quantity', u'item_name', u'choice_description',\n",
              "       u'item_price'],\n",
              "      dtype='object')"
            ]
          },
          "metadata": {
            "tags": []
          },
          "execution_count": 13
        }
      ]
    },
    {
      "cell_type": "markdown",
      "metadata": {
        "id": "VdSQhgW0yr43"
      },
      "source": [
        "### Step 8. How is the dataset indexed?"
      ]
    },
    {
      "cell_type": "code",
      "metadata": {
        "colab": {
          "base_uri": "https://localhost:8080/"
        },
        "id": "DVveJUUgyr43",
        "outputId": "8935d5e8-9885-40b9-d593-e0a5eb015991"
      },
      "source": [
        "chipo.index"
      ],
      "execution_count": 14,
      "outputs": [
        {
          "output_type": "execute_result",
          "data": {
            "text/plain": [
              "RangeIndex(start=0, stop=4622, step=1)"
            ]
          },
          "metadata": {
            "tags": []
          },
          "execution_count": 14
        }
      ]
    },
    {
      "cell_type": "markdown",
      "metadata": {
        "id": "aRL90dMYyr43"
      },
      "source": [
        "### Step 9. Which was the most-ordered item? "
      ]
    },
    {
      "cell_type": "code",
      "metadata": {
        "id": "RUz4GP2Eyr43"
      },
      "source": [
        ""
      ],
      "execution_count": null,
      "outputs": []
    },
    {
      "cell_type": "markdown",
      "metadata": {
        "id": "3xahQxP2yr43"
      },
      "source": [
        "### Step 10. For the most-ordered item, how many items were ordered?"
      ]
    },
    {
      "cell_type": "code",
      "metadata": {
        "id": "o3HDb3ZMyr43"
      },
      "source": [
        ""
      ],
      "execution_count": null,
      "outputs": []
    },
    {
      "cell_type": "markdown",
      "metadata": {
        "id": "5yOBB0AFyr43"
      },
      "source": [
        "### Step 11. What was the most ordered item in the choice_description column?"
      ]
    },
    {
      "cell_type": "code",
      "metadata": {
        "id": "kBDAO82Vyr43"
      },
      "source": [
        ""
      ],
      "execution_count": null,
      "outputs": []
    },
    {
      "cell_type": "markdown",
      "metadata": {
        "id": "3zvQfgmDyr43"
      },
      "source": [
        "### Step 12. How many items were orderd in total?"
      ]
    },
    {
      "cell_type": "code",
      "metadata": {
        "id": "pyjh0vduyr43"
      },
      "source": [
        ""
      ],
      "execution_count": null,
      "outputs": []
    },
    {
      "cell_type": "markdown",
      "metadata": {
        "id": "hKuzFLDoyr43"
      },
      "source": [
        "### Step 13. Turn the item price into a float"
      ]
    },
    {
      "cell_type": "markdown",
      "metadata": {
        "id": "HFZpmQEJyr43"
      },
      "source": [
        "#### Step 13.a. Check the item price type"
      ]
    },
    {
      "cell_type": "code",
      "metadata": {
        "id": "F1Zrmsdeyr43"
      },
      "source": [
        ""
      ],
      "execution_count": null,
      "outputs": []
    },
    {
      "cell_type": "markdown",
      "metadata": {
        "id": "LwT1Z9yIyr43"
      },
      "source": [
        "#### Step 13.b. Create a lambda function and change the type of item price"
      ]
    },
    {
      "cell_type": "code",
      "metadata": {
        "collapsed": true,
        "id": "NcO6kPjhyr43"
      },
      "source": [
        ""
      ],
      "execution_count": null,
      "outputs": []
    },
    {
      "cell_type": "markdown",
      "metadata": {
        "id": "JCP8afAMyr43"
      },
      "source": [
        "#### Step 13.c. Check the item price type"
      ]
    },
    {
      "cell_type": "code",
      "metadata": {
        "id": "Wr7eKizEyr43"
      },
      "source": [
        ""
      ],
      "execution_count": null,
      "outputs": []
    },
    {
      "cell_type": "markdown",
      "metadata": {
        "id": "oWX6AHBbyr43"
      },
      "source": [
        "### Step 14. How much was the revenue for the period in the dataset?"
      ]
    },
    {
      "cell_type": "code",
      "metadata": {
        "id": "7R5B5lfRyr43"
      },
      "source": [
        ""
      ],
      "execution_count": null,
      "outputs": []
    },
    {
      "cell_type": "markdown",
      "metadata": {
        "id": "JzJMqKngyr44"
      },
      "source": [
        "### Step 15. How many orders were made in the period?"
      ]
    },
    {
      "cell_type": "code",
      "metadata": {
        "id": "2NOA0do-yr44"
      },
      "source": [
        ""
      ],
      "execution_count": null,
      "outputs": []
    },
    {
      "cell_type": "markdown",
      "metadata": {
        "id": "jjDR70fZyr44"
      },
      "source": [
        "### Step 16. What is the average revenue amount per order?"
      ]
    },
    {
      "cell_type": "code",
      "metadata": {
        "id": "QpNaTirtyr44"
      },
      "source": [
        "# Solution 1\n",
        "\n"
      ],
      "execution_count": null,
      "outputs": []
    },
    {
      "cell_type": "code",
      "metadata": {
        "id": "WeDSiAGPyr44"
      },
      "source": [
        "# Solution 2\n",
        "\n"
      ],
      "execution_count": null,
      "outputs": []
    },
    {
      "cell_type": "markdown",
      "metadata": {
        "id": "LAn5FFPZyr44"
      },
      "source": [
        "### Step 17. How many different items are sold?"
      ]
    },
    {
      "cell_type": "code",
      "metadata": {
        "id": "duYscgnCyr44"
      },
      "source": [
        ""
      ],
      "execution_count": null,
      "outputs": []
    }
  ]
}